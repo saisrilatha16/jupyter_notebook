{
 "cells": [
  {
   "attachments": {},
   "cell_type": "markdown",
   "id": "bdb90584",
   "metadata": {},
   "source": [
    "# Data Science Tools and Ecosystem"
   ]
  },
  {
   "cell_type": "markdown",
   "id": "f722a1ac",
   "metadata": {},
   "source": [
    "In this notebook, Data Science Tools and Ecosystem are summarized."
   ]
  },
  {
   "cell_type": "markdown",
   "id": "ee53cca5",
   "metadata": {},
   "source": [
    "Some of the popular languages that Data Scientists use are:\n",
    "\n",
    "    1.python\n",
    "    2.R\n",
    "    3.sql\n",
    "    4.c++"
   ]
  },
  {
   "cell_type": "markdown",
   "id": "20cd05d4",
   "metadata": {},
   "source": [
    "Some of the commonly used libraries used by Data Scientists include:\n",
    "    \n",
    "    1.pandas\n",
    "    2.numpy\n",
    "    3.Matplotlib\n",
    "    4.Tensorflow\n",
    "    5.keras"
   ]
  },
  {
   "cell_type": "markdown",
   "id": "5e4bec06",
   "metadata": {},
   "source": [
    "|Data science Tools|\n",
    "|---|\n",
    "|Apache Spark|\n",
    "|SAS|\n",
    "|Tensor Flow|"
   ]
  },
  {
   "cell_type": "markdown",
   "id": "b37c81c1",
   "metadata": {},
   "source": [
    "### Below are a few examples of evaluating arithmetic expressions in Python"
   ]
  },
  {
   "cell_type": "code",
   "execution_count": 2,
   "id": "0037f121",
   "metadata": {},
   "outputs": [
    {
     "data": {
      "text/plain": [
       "17"
      ]
     },
     "execution_count": 2,
     "metadata": {},
     "output_type": "execute_result"
    }
   ],
   "source": [
    " #This a simple arithmetic expression to mutiply then add integers\n",
    " (3*4)+5   "
   ]
  },
  {
   "cell_type": "code",
   "execution_count": 3,
   "id": "37d24652",
   "metadata": {},
   "outputs": [
    {
     "data": {
      "text/plain": [
       "3.3333333333333335"
      ]
     },
     "execution_count": 3,
     "metadata": {},
     "output_type": "execute_result"
    }
   ],
   "source": [
    " #This will convert 200 minutes to hours by diving by 60\n",
    " 200/60   "
   ]
  },
  {
   "cell_type": "markdown",
   "id": "56aebcac",
   "metadata": {},
   "source": [
    "__Objectives:__\n",
    "    \n",
    "*List popular languages for Data Science\n",
    "\n",
    "*List popular tools for Data Science\n",
    "\n",
    "*List popular libraries for Data Science\n",
    "\n",
    "*How to provide comments in the cell"
   ]
  },
  {
   "cell_type": "markdown",
   "id": "12655666",
   "metadata": {},
   "source": [
    "## Author\n",
    "\n",
    "Sai sri"
   ]
  },
  {
   "cell_type": "code",
   "execution_count": null,
   "id": "4c291eb6",
   "metadata": {},
   "outputs": [],
   "source": []
  }
 ],
 "metadata": {
  "kernelspec": {
   "display_name": "Python 3 (ipykernel)",
   "language": "python",
   "name": "python3"
  },
  "language_info": {
   "codemirror_mode": {
    "name": "ipython",
    "version": 3
   },
   "file_extension": ".py",
   "mimetype": "text/x-python",
   "name": "python",
   "nbconvert_exporter": "python",
   "pygments_lexer": "ipython3",
   "version": "3.11.4"
  }
 },
 "nbformat": 4,
 "nbformat_minor": 5
}
